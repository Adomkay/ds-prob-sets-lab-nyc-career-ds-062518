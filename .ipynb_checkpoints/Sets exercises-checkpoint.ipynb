{
 "cells": [
  {
   "cell_type": "markdown",
   "metadata": {},
   "source": [
    "# Exercises on sets"
   ]
  },
  {
   "cell_type": "markdown",
   "metadata": {},
   "source": [
    "This lab will not contain Python examples - we're just practicing theory here!"
   ]
  },
  {
   "cell_type": "markdown",
   "metadata": {},
   "source": [
    "## test "
   ]
  },
  {
   "cell_type": "markdown",
   "metadata": {},
   "source": [
    "1. Denote a set $A$ being the boroughs of NYC\n"
   ]
  },
  {
   "cell_type": "markdown",
   "metadata": {},
   "source": [
    "Probability of having a borough that starts with a letter b?"
   ]
  },
  {
   "cell_type": "markdown",
   "metadata": {},
   "source": []
  },
  {
   "cell_type": "markdown",
   "metadata": {},
   "source": [
    "intersection of prime numbers and even numbers --> empty sets"
   ]
  },
  {
   "cell_type": "markdown",
   "metadata": {},
   "source": [
    "2. Denote set A the set of vowels\n",
    "\n",
    "    a. How many elements does the set have?\n",
    "    b. "
   ]
  },
  {
   "cell_type": "markdown",
   "metadata": {},
   "source": [
    "\n",
    "2. Denote set A the set of vowels\n",
    "\n",
    "\n",
    "3. At the end of a highway exit, cars can either turn left (L), go straight (S) or turn right (R). For the three next cars arriving, we keep records of what they do.\n",
    "\n",
    "     a. Create a set $A$ of all possible outcomes assuming that all cars drive in the same direction.\n",
    "           Solution: $A = \\{(L,L,L); (S,S,S); (R,R,R)\\}$\n",
    "     b. Create a set $B$ of all possible outcomes assuming that all cars drive in a different direction.\n",
    "         Solution: $B = \\{(L,R,S); (L,S,R); (R,L,S); (R,S,L); (S,L,R); (S,R,L)\\}$\n",
    "         \n",
    "     c. Create a set $C$ of all possible outcomes assuming that exactly 2 cars turn right.\n",
    "         Solution: $C = \\{(L,R,R); (R,L,R); (R,R,L); (S,R,R); (R,S,R); (R,R,S)\\}$\n",
    "     \n",
    "     d. Create a set $D$ of all possible outcomes assuming that exactly 2 cars drive in the same direction.\n",
    "         Solution: $C = \\{(L,R,R); (R,L,R); (R,R,L); (S,R,R); (R,S,R); (R,R,S);\n",
    "                          (L,S,S); (S,L,S); (S,S,L); (R,S,S); (S,R,S); (S,S,R);\n",
    "                          (S,L,L); (L,S,L); (L,L,S); (R,L,L); (L,R,L); (L,L,R)\\}$\n",
    "     e. Write down the interpretation and give all possible outcomes for the sets denoted by $D'$, $C\\cap D$, $C \\cup D$. \n",
    "         Solution:\n",
    "         - $D'$\n",
    "                           \n",
    "                           \n",
    "        \n",
    "         \n",
    "     "
   ]
  },
  {
   "cell_type": "code",
   "execution_count": null,
   "metadata": {},
   "outputs": [],
   "source": []
  }
 ],
 "metadata": {
  "kernelspec": {
   "display_name": "Python 3",
   "language": "python",
   "name": "python3"
  },
  "language_info": {
   "codemirror_mode": {
    "name": "ipython",
    "version": 3
   },
   "file_extension": ".py",
   "mimetype": "text/x-python",
   "name": "python",
   "nbconvert_exporter": "python",
   "pygments_lexer": "ipython3",
   "version": "3.6.4"
  }
 },
 "nbformat": 4,
 "nbformat_minor": 2
}
