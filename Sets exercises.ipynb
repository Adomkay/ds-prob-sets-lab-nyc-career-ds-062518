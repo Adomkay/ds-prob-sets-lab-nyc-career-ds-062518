{
 "cells": [
  {
   "cell_type": "markdown",
   "metadata": {},
   "source": [
    "# Exercises on sets"
   ]
  },
  {
   "cell_type": "markdown",
   "metadata": {},
   "source": [
    "This lab will not contain Python examples - we're just practicing theory here!"
   ]
  },
  {
   "cell_type": "markdown",
   "metadata": {},
   "source": [
    "1. Denote a set $A$ being the boroughs of NYC\n"
   ]
  },
  {
   "cell_type": "markdown",
   "metadata": {},
   "source": [
    "Probability of having a borough that starts with a letter b?"
   ]
  },
  {
   "cell_type": "markdown",
   "metadata": {},
   "source": [
    "2. Denote set A the set of vowels\n",
    "\n",
    "    a. Create the set. How many elements does the set have? \n",
    "        Solution: $A = \\{a,e,i,o,u\\}$, there are 5 elements in the set\n",
    "    b. "
   ]
  },
  {
   "cell_type": "markdown",
   "metadata": {},
   "source": []
  },
  {
   "cell_type": "markdown",
   "metadata": {},
   "source": [
    "\n",
    "\n",
    "1. \n",
    "\n",
    "2. EXERCISE 3: At the end of a highway exit, cars can either turn left (L), go straight (S) or turn right (R). For the three next  cars arriving, we keep records of what they do.\n",
    "\n",
    "     a. Create a set $A$ of all possible outcomes assuming that all cars drive in the same direction.\n",
    "           Solution: $A = \\{(L,L,L); (S,S,S); (R,R,R)\\}$\n",
    "     b. Create a set $B$ of all possible outcomes assuming that all cars drive in a different direction.\n",
    "         Solution: $B = \\{(L,R,S); (L,S,R); (R,L,S); (R,S,L); (S,L,R); (S,R,L)\\}$\n",
    "         \n",
    "     c. Create a set $C$ of all possible outcomes assuming that exactly 2 cars turn right.\n",
    "         Solution: $C = \\{(L,R,R); (R,L,R); (R,R,L); (S,R,R); (R,S,R); (R,R,S)\\}$\n",
    "     \n",
    "     d. Create a set $D$ of all possible outcomes assuming that exactly 2 cars drive in the same direction.\n",
    "         Solution: $C = \\{(L,R,R); (R,L,R); (R,R,L); (S,R,R); (R,S,R); (R,R,S);\n",
    "                          (L,S,S); (S,L,S); (S,S,L); (R,S,S); (S,R,S); (S,S,R);\n",
    "                          (S,L,L); (L,S,L); (L,L,S); (R,L,L); (L,R,L); (L,L,R)\\}$\n",
    "     e. Write down the interpretation and give all possible outcomes for the sets denoted by \n",
    "             I. $D'$ \n",
    "             II. $C \\cap D$, \n",
    "             III. $C \\cup D$. \n",
    "         Solution:\n",
    "              I.  $D'$: all cars go in a different direction, or all go in the same direction.\n",
    "                  $D' = \\{(L,R,S); (L,S,R); (R,L,S); (R,S,L); (S,L,R); (S,R,L); (L,L,L); (S,S,S); (R,R,R)\\}\n",
    "             \n",
    "             II. The intersection between 2 cars go right, and 2 cars go in the same direction.\n",
    "                  As C is a subset of D, this boils down to C again, so\n",
    "                  $C \\cap D = C = \\{(L,R,R); (R,L,R); (R,R,L); (S,R,R); (R,S,R); (R,R,S)\\} $\n",
    "                  \n",
    "             III. The union between 2 cars go right, and 2 cars go in the same direction. So the set we end up with\n",
    "                  is the set of 2 cars going in the same direction, which boils down to D again.\n",
    "                  $C \\cup D = D = \\{(L,R,R); (R,L,R); (R,R,L); (S,R,R); (R,S,R); (R,R,S);\n",
    "                                  (L,S,S); (S,L,S); (S,S,L); (R,S,S); (S,R,S); (S,S,R);\n",
    "                                  (S,L,L); (L,S,L); (L,L,S); (R,L,L); (L,R,L); (L,L,R)\\}$\n",
    "3. EXERCISE 3: Consider the following sets:\n",
    "    - $\\Omega$ = positive integers between [1, 10]\n",
    "    - A = even numbers between [1, 10]\n",
    "    - B = {3,8}\n",
    "    - C = {2,3,6,8,9}\n",
    "    \n",
    "    a. Illustrate all the sets in a Venn Diagram like the one below. The rectangular shape represents the \n",
    "\n",
    "<img src=\"venn_diagr.png\",width=450,height=450>\n",
    "\n",
    "\n",
    "         \n",
    "     "
   ]
  },
  {
   "cell_type": "markdown",
   "metadata": {},
   "source": [
    "# sources"
   ]
  },
  {
   "cell_type": "markdown",
   "metadata": {},
   "source": [
    "https://en.wikibooks.org/wiki/Discrete_Mathematics/Set_theory/Exercises"
   ]
  },
  {
   "cell_type": "code",
   "execution_count": null,
   "metadata": {},
   "outputs": [],
   "source": []
  }
 ],
 "metadata": {
  "kernelspec": {
   "display_name": "Python 3",
   "language": "python",
   "name": "python3"
  },
  "language_info": {
   "codemirror_mode": {
    "name": "ipython",
    "version": 3
   },
   "file_extension": ".py",
   "mimetype": "text/x-python",
   "name": "python",
   "nbconvert_exporter": "python",
   "pygments_lexer": "ipython3",
   "version": "3.6.4"
  }
 },
 "nbformat": 4,
 "nbformat_minor": 2
}
