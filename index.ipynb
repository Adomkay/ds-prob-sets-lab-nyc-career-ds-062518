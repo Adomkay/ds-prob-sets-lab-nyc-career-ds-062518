{
 "cells": [
  {
   "cell_type": "markdown",
   "metadata": {},
   "source": [
    "# Exercises on sets"
   ]
  },
  {
   "cell_type": "markdown",
   "metadata": {},
   "source": [
    "## Introduction"
   ]
  },
  {
   "cell_type": "markdown",
   "metadata": {},
   "source": [
    "Probability theory is all around. A common example is in the game of poker or related card games, where players try to calculate the probability of winning a round given the cards they have in their hands. Also in the business context probabilities play an important role. Operating in an volatile economy, companies need to take uncertainty into account and this is exactly where probability theory plays a role.\n",
    "\n",
    "A good understanding of probability starts with understanding what sets are and set operations. That's exactly what you'll learn in this lab!"
   ]
  },
  {
   "cell_type": "markdown",
   "metadata": {},
   "source": [
    "## Objectives"
   ]
  },
  {
   "cell_type": "markdown",
   "metadata": {},
   "source": [
    "By the end of this lab\n",
    "\n",
    "- You'll have a better sense of the notion of several set types (sets, subsets, universal sets,...)\n",
    "- You'll know how to perform common set operations in Python."
   ]
  },
  {
   "cell_type": "markdown",
   "metadata": {},
   "source": [
    "## Exercise 1"
   ]
  },
  {
   "cell_type": "markdown",
   "metadata": {},
   "source": [
    "Let's start with a pretty conceptual example. Let's consider the following sets:"
   ]
  },
  {
   "cell_type": "markdown",
   "metadata": {},
   "source": [
    "   - $\\Omega$ = positive integers between [1, 12]\n",
    "   - $A$= even numbers between [1, 10]\n",
    "   - $B = \\{3,8,11,12\\}$\n",
    "   - $C = \\{2,3,6,8,9,11\\}$\n",
    "    \n",
    "\n",
    "#### a. Illustrate all the sets in a Venn Diagram like the one below. The rectangular shape represents the universal set.\n",
    "\n",
    "![title](venn_diagr.png)\n",
    "\n",
    "#### b. Using your Venn Diagram, list the elements in each of the following sets:\n",
    "\n",
    "- $ A \\cap B$\n",
    "- $ A \\cup C$\n",
    "- $A^c$ \n",
    "- The absolute complement of B\n",
    "- $(A \\cup B)^c$\n",
    "- $B \\cap C'$\n",
    "- $A\\backslash B$\n",
    "- $C \\backslash (B \\backslash A)$ \n",
    "- $(C \\cap A) \\cup (C \\backslash B)$\n",
    "        \n",
    "#### c. As seen in the lecture, you can easily create sets in Python as well. For the remainder of this exercise, let's  create sets A, B and C and universal set U in Python and test out the results you came up with."
   ]
  },
  {
   "cell_type": "code",
   "execution_count": null,
   "metadata": {},
   "outputs": [],
   "source": [
    "# Create set A\n",
<<<<<<< HEAD
    "A = None\n",
=======
    "A = set([2,4,6,8,10])\n",
>>>>>>> 0b5da4683dce62c51d796473092e6abfbd089db1
    "'Type A: {}, A: {}'.format(type(A), A)"
   ]
  },
  {
   "cell_type": "code",
   "execution_count": null,
   "metadata": {},
   "outputs": [],
   "source": [
    "# Create set B\n",
<<<<<<< HEAD
    "B = None\n",
=======
    "B = set([3,8,11,12])\n",
>>>>>>> 0b5da4683dce62c51d796473092e6abfbd089db1
    "'Type B: {}, B: {}'.format(type(B), B)"
   ]
  },
  {
   "cell_type": "code",
   "execution_count": null,
   "metadata": {},
   "outputs": [],
   "source": [
    "# Create set C\n",
<<<<<<< HEAD
    "C = None\n",
=======
    "C = set([2,3,6,8,9,11])\n",
>>>>>>> 0b5da4683dce62c51d796473092e6abfbd089db1
    "'Type C: {}, C: {}'.format(type(C), C)"
   ]
  },
  {
   "cell_type": "code",
   "execution_count": null,
   "metadata": {},
   "outputs": [],
   "source": [
    "# Create universal set U\n",
<<<<<<< HEAD
    "U = None\n",
=======
    "U = set([1,2,3,4,5,6,7,8,9,10,11,12])\n",
>>>>>>> 0b5da4683dce62c51d796473092e6abfbd089db1
    "'Type U: {}, U: {}'.format(type(U), U)"
   ]
  },
  {
   "cell_type": "markdown",
   "metadata": {},
   "source": [
    "Now, verify your answers in section 1 by using the correct methods in Python. To provide a little bit of help, you can find a table with common operations on sets below.\n",
    "\n",
    "| Method        |\tEquivalent |\tResult |\n",
    "| ------                    | ------       | ------    |\n",
    "| s.issubset(t)             |\ts <= t     | test whether every element in s is in t\n",
    "| s.issuperset(t)           |\ts >= t     | test whether every element in t is in s\n",
    "| s.union(t)                |\ts $\\mid$ t | new set with elements from both s and t\n",
    "| s.intersection(t)         |\ts & t      | new set with elements common to s and t\n",
    "| s.difference(t)           |\ts - t \t   | new set with elements in s but not in t\n",
    "| s.symmetric_difference(t) |\ts ^ t      | new set with elements in either s or t but not both"
   ]
  },
  {
   "cell_type": "markdown",
   "metadata": {},
   "source": [
    "#### 1. $ A \\cap B$"
   ]
  },
  {
   "cell_type": "code",
   "execution_count": null,
   "metadata": {},
   "outputs": [],
   "source": [
<<<<<<< HEAD
    "A_inters_B =  None\n",
=======
    "A_inters_B =  A & B\n",
>>>>>>> 0b5da4683dce62c51d796473092e6abfbd089db1
    "A_inters_B"
   ]
  },
  {
   "cell_type": "markdown",
   "metadata": {},
   "source": [
    "#### 2. $ A \\cup C $"
   ]
  },
  {
   "cell_type": "code",
   "execution_count": null,
   "metadata": {},
   "outputs": [],
   "source": [
<<<<<<< HEAD
    "A_union_C = None\n",
=======
    "A_union_C = A | C\n",
>>>>>>> 0b5da4683dce62c51d796473092e6abfbd089db1
    "A_union_C"
   ]
  },
  {
   "cell_type": "markdown",
   "metadata": {},
   "source": [
    "#### 3.  $A^c$ (you'll have to be a little creative here!)"
   ]
  },
  {
   "cell_type": "code",
   "execution_count": null,
   "metadata": {},
   "outputs": [],
   "source": [
<<<<<<< HEAD
    "A_comp = None # or A_comp = U-A\n",
=======
    "A_comp = U.difference(A) # or A_comp = U-A\n",
>>>>>>> 0b5da4683dce62c51d796473092e6abfbd089db1
    "A_comp"
   ]
  },
  {
   "cell_type": "markdown",
   "metadata": {},
   "source": [
    "#### 4.  $(A \\cup B)^c $"
   ]
  },
  {
<<<<<<< HEAD
   "cell_type": "markdown",
   "metadata": {},
=======
   "cell_type": "code",
   "execution_count": null,
   "metadata": {},
   "outputs": [],
>>>>>>> 0b5da4683dce62c51d796473092e6abfbd089db1
   "source": [
    "A_union_B_comp = U - (A | B) \n",
    "A_union_B_comp"
   ]
  },
  {
   "cell_type": "markdown",
   "metadata": {},
   "source": [
    "#### 5. $B \\cap C' $"
   ]
  },
  {
   "cell_type": "code",
   "execution_count": null,
   "metadata": {},
   "outputs": [],
   "source": [
<<<<<<< HEAD
    "B_inters_C_comp = None\n",
=======
    "B_inters_C_comp = B & (U-C)\n",
>>>>>>> 0b5da4683dce62c51d796473092e6abfbd089db1
    "B_inters_C_comp"
   ]
  },
  {
   "cell_type": "markdown",
   "metadata": {},
   "source": [
    "#### 6. $A\\backslash B$"
   ]
  },
  {
   "cell_type": "code",
   "execution_count": null,
   "metadata": {},
   "outputs": [],
   "source": [
<<<<<<< HEAD
    "A_min_B = None\n",
=======
    "A_min_B = A-B\n",
>>>>>>> 0b5da4683dce62c51d796473092e6abfbd089db1
    "A_min_B"
   ]
  },
  {
   "cell_type": "markdown",
   "metadata": {},
   "source": [
    "#### 7. $C \\backslash (B \\backslash A) $"
   ]
  },
  {
   "cell_type": "code",
   "execution_count": null,
   "metadata": {},
   "outputs": [],
   "source": [
<<<<<<< HEAD
    "C_min_B_min_A= None\n",
=======
    "C_min_B_min_A= C-(B-A)\n",
>>>>>>> 0b5da4683dce62c51d796473092e6abfbd089db1
    "C_min_B_min_A"
   ]
  },
  {
   "cell_type": "markdown",
   "metadata": {},
   "source": [
    "#### 8.  $(C \\cap A) \\cup (C \\backslash B)$"
   ]
  },
  {
   "cell_type": "code",
   "execution_count": null,
   "metadata": {},
   "outputs": [],
   "source": [
<<<<<<< HEAD
    "C_inters_A_union_C_min_B= None\n",
=======
    "C_inters_A_union_C_min_B= (C&A)|(C-B)\n",
>>>>>>> 0b5da4683dce62c51d796473092e6abfbd089db1
    "C_inters_A_union_C_min_B"
   ]
  },
  {
   "cell_type": "markdown",
   "metadata": {},
   "source": [
<<<<<<< HEAD
=======
    "## Exercise 1: solution for parts a. and b. "
   ]
  },
  {
   "cell_type": "markdown",
   "metadata": {},
   "source": [
    "a. \n",
    "\n",
    "![title](venn_diagr_comp.png)"
   ]
  },
  {
   "cell_type": "markdown",
   "metadata": {},
   "source": [
    "b. \n",
    "\n",
    "- $ A \\cap B = \\{8\\}$\n",
    "- $ A \\cup C = \\{2,3,4,6,8,9,10, 11\\}$\n",
    "- $A^c = \\{1,3,5,8,7,9,11,12\\}$\n",
    "- $(A \\cup B)^c = \\{1,5,7,9\\} $\n",
    "- $B \\cap C' = \\{12\\}$\n",
    "- $A\\backslash B = \\{2,4,6,10\\}$\n",
    "- $C \\backslash (B \\backslash A) =\\{2,6,8,9\\} $\n",
    "- $(C \\cap A) \\cup (C \\backslash B) = \\{2,6,8,9\\}$\n"
   ]
  },
  {
   "cell_type": "markdown",
   "metadata": {},
   "source": [
>>>>>>> 0b5da4683dce62c51d796473092e6abfbd089db1
    "## Exercise 2"
   ]
  },
  {
   "cell_type": "markdown",
   "metadata": {},
   "source": [
    "Use A, B and C from exercise one to verify the inclusion exclusion principle in Python. What you'll do is translate the left hand side of the equation for the inclusion principle in the object `left_hand_eq`, and the right hand side in the object `right_hand_eq` and see if the results are the same."
   ]
  },
  {
   "cell_type": "code",
   "execution_count": null,
   "metadata": {},
   "outputs": [],
   "source": [
<<<<<<< HEAD
    "left_hand_eq = None\n",
=======
    "left_hand_eq = len(A | B | C)\n",
>>>>>>> 0b5da4683dce62c51d796473092e6abfbd089db1
    "print(left_hand_eq)  # 9"
   ]
  },
  {
   "cell_type": "code",
   "execution_count": null,
   "metadata": {},
   "outputs": [],
   "source": [
<<<<<<< HEAD
    "right_hand_eq = None\n",
=======
    "right_hand_eq = len(A)+len(B)+len(C)- len(A&B)-len(A&C)-len(B&C)+len(A&B&C)\n",
>>>>>>> 0b5da4683dce62c51d796473092e6abfbd089db1
    "print(right_hand_eq) # 9"
   ]
  },
  {
   "cell_type": "code",
   "execution_count": null,
   "metadata": {},
   "outputs": [],
   "source": [
<<<<<<< HEAD
    "None # needs to say \"True\""
=======
    "left_hand_eq == right_hand_eq # needs to say \"True\""
>>>>>>> 0b5da4683dce62c51d796473092e6abfbd089db1
   ]
  },
  {
   "cell_type": "markdown",
   "metadata": {},
   "source": [
    "## Exercise 3"
   ]
  },
  {
   "cell_type": "markdown",
   "metadata": {},
   "source": [
    "Mary is preparing for a road trip from her hometown, Boston, to Chicago. She has quite a few pets, yet luckily, so do her friends. They try to make sure that they take care of each other's pets while someone is away on a trip. A month ago, each respective person's pet collection was given by the following three sets:"
   ]
  },
  {
   "cell_type": "code",
   "execution_count": null,
   "metadata": {},
   "outputs": [],
   "source": [
    "Nina = set([\"Cat\",\"Dog\",\"Rabbit\",\"Donkey\",\"Parrot\", \"Goldfish\"])\n",
    "Mary = set([\"Dog\",\"Chinchilla\",\"Horse\", \"Chicken\"])\n",
    "Eve = set([\"Rabbit\", \"Turtle\", \"Goldfish\"])"
   ]
  },
  {
   "cell_type": "markdown",
   "metadata": {},
   "source": [
    "In this exercise, you'll be able to use the following operations:"
   ]
  },
  {
   "cell_type": "markdown",
   "metadata": {},
   "source": [
    "|Operation                          |\tEquivalent |\tResult|\n",
    "| ------                            | ------       | ------   |\n",
    "|s.update(t)                        | \t$s \\mid t$ \t   |return set s with elements added from t|\n",
    "|s.intersection_update(t)           | \ts &= t     |\treturn set s keeping only elements also found in t|\n",
    "|s.difference_update(t)             |\ts -= t \t   |return set s after removing elements found in t|\n",
    "|s.symmetric_difference_update(t)   |\ts ^= t \t   |return set s with elements from s or t but not both|\n",
    "|s.add(x)                           |\t           |\tadd element x to set s|\n",
    "|s.remove(x)                        |\t           |\tremove x from set s|\n",
    "|s.discard(x)                       |\t           |\tremoves x from set s if present|\n",
    "|s.pop()                            | \t           |\tremove and return an arbitrary element from s|\n",
    "|s.clear()            \t            |  \t           |remove all elements from set s|"
   ]
  },
  {
   "cell_type": "markdown",
   "metadata": {},
   "source": [
    "Sadly, Eve's turtle passed away last week. Let's update her pet list accordingly."
   ]
  },
  {
   "cell_type": "code",
   "execution_count": null,
   "metadata": {},
   "outputs": [],
   "source": [
<<<<<<< HEAD
    "None\n",
=======
    "Eve.remove(\"Turtle\")\n",
>>>>>>> 0b5da4683dce62c51d796473092e6abfbd089db1
    "Eve # should be {'Rabbit', 'Goldfish'}"
   ]
  },
  {
   "cell_type": "markdown",
   "metadata": {},
   "source": [
    "This time around, Nina promised to take care of Mary's pets while she's awat. but also wants to make sure her pets are well taken care of. As Nina is already spending a considerable amount of time taking care of her own pets, adding a few more won't make that much of a difference. Nina does want to update her list while Marie is away. "
   ]
  },
  {
   "cell_type": "code",
   "execution_count": null,
   "metadata": {},
   "outputs": [],
   "source": [
<<<<<<< HEAD
    "None\n",
=======
    "Nina.update(Mary)\n",
>>>>>>> 0b5da4683dce62c51d796473092e6abfbd089db1
    "Nina # {'Chicken', 'Horse', 'Chinchilla', 'Parrot', 'Rabbit', 'Donkey', 'Dog', 'Cat', 'Goldfish'}"
   ]
  },
  {
   "cell_type": "markdown",
   "metadata": {},
   "source": [
    "Mary, on the other hand, wants to clear her list altogether while away:"
   ]
  },
  {
   "cell_type": "code",
   "execution_count": null,
   "metadata": {},
   "outputs": [],
   "source": [
<<<<<<< HEAD
    "None\n",
=======
    "Mary.clear()\n",
>>>>>>> 0b5da4683dce62c51d796473092e6abfbd089db1
    "Mary  # set()"
   ]
  },
  {
   "cell_type": "markdown",
   "metadata": {},
   "source": [
    "Look at how many species Nina is taking care of right now."
   ]
  },
  {
   "cell_type": "code",
   "execution_count": null,
   "metadata": {},
   "outputs": [],
   "source": [
<<<<<<< HEAD
    "None\n",
=======
    "n_species_Nina = len(Nina)\n",
>>>>>>> 0b5da4683dce62c51d796473092e6abfbd089db1
    "n_species_Nina # 9"
   ]
  },
  {
   "cell_type": "markdown",
   "metadata": {},
   "source": [
    "Taking care of this many pets is weighing heavy on Nina. She remembered Eve had a smaller collection of pets lately, and that's why she asks Eve to take care of the common species. This way, the extra pets are not a huge effort on Eve's behalf. Let's update Nina's pet collection."
   ]
  },
  {
   "cell_type": "code",
   "execution_count": null,
   "metadata": {},
   "outputs": [],
   "source": [
<<<<<<< HEAD
    "None\n",
=======
    "Nina.difference_update(Eve)\n",
>>>>>>> 0b5da4683dce62c51d796473092e6abfbd089db1
    "Nina # 7"
   ]
  },
  {
   "cell_type": "markdown",
   "metadata": {},
   "source": [
    "Taking care of 7 species seems doable for Nina!"
   ]
  },
  {
   "cell_type": "markdown",
   "metadata": {},
   "source": [
    "## Exercise 4\n",
    "\n",
    "\n",
    "Mary dropped off her Pet's at Nina's house, and finally made her way to the highway. Awesome, her vacation has begun!\n",
    "She's approaching an exit. At the end of this particular highway exit, cars can either turn left (L), go straight (S) or turn right (R). It's pretty busy and there are two cars driving close to her. What we'll do now is create several sets. You won't be using Python here, it's sufficient to write the sets down on paper. A good notion of sets and subsets will help you calculate probabilities in the next lab!\n",
    "\n",
    "a. Create a set $A$ of all possible outcomes assuming that all three cars drive in the same direction.\n",
    "           \n",
    "b. Create a set $B$ of all possible outcomes assuming that all three cars drive in a different direction.\n",
    "             \n",
    "c. Create a set $C$ of all possible outcomes assuming that exactly 2 cars turn right.\n",
    "            \n",
    "d. Create a set $D$ of all possible outcomes assuming that exactly 2 cars drive in the same direction.\n",
    "\n",
    "                          \n",
    "e. Write down the interpretation and give all possible outcomes for the sets denoted by:\n",
    " - I. $D'$ \n",
    " - II. $C \\cap D$, \n",
    " - III. $C \\cup D$. "
   ]
  },
  {
   "cell_type": "markdown",
   "metadata": {},
   "source": [
<<<<<<< HEAD
=======
    "##  Exercise 4: solution\n",
    "\n",
    "a. Solution: $A = \\{(L,L,L); (S,S,S); (R,R,R)\\}$\n",
    "\n",
    "b. Solution: $B = \\{(L,R,S); (L,S,R); (R,L,S); (R,S,L); (S,L,R); (S,R,L)\\}$\n",
    "\n",
    "\n",
    "\n",
    "c. Solution: $C= \\{(L,R,R); (R,L,R); (R,R,L); (S,R,R); (R,S,R); (R,R,S)\\}$\n",
    "\n",
    "\n",
    "d. Solution: $D = \\{(L,R,R); (R,L,R); (R,R,L); (S,R,R); (R,S,R); (R,R,S);\\\\\n",
    "                          (L,S,S); (S,L,S); (S,S,L); (R,S,S); (S,R,S); (S,S,R); \\\\\n",
    "                          (S,L,L); (L,S,L); (L,L,S); (R,L,L); (L,R,L); (L,L,R)\\}$\n",
    "\n",
    "e. \n",
    "\n",
    "I. $D'$: all cars go in a different direction, or all go in the same direction.\n",
    "    $D' = \\{(L,R,S); (L,S,R); (R,L,S); (R,S,L); (S,L,R); (S,R,L); (L,L,L); (S,S,S); (R,R,R)\\}$\n",
    "             \n",
    "II. The intersection between 2 cars go right, and 2 cars go in the same direction. As C is a subset of D, this boils down to C again, so $C \\cap D = C = \\{(L,R,R); (R,L,R); (R,R,L); (S,R,R); (R,S,R); (R,R,S)\\} $\n",
    "                  \n",
    "III. The union between 2 cars go right, and 2 cars go in the same direction. So the set we end up with is the set of 2 cars going in the same direction, which boils down to D again.\n",
    "$C \\cup D = D = \\{(L,R,R); (R,L,R); (R,R,L); (S,R,R); (R,S,R); (R,R,S);\\\\\n",
    "                 (L,S,S); (S,L,S); (S,S,L); (R,S,S); (S,R,S); (S,S,R);\\\\\n",
    "                 (S,L,L); (L,S,L); (L,L,S); (R,L,L); (L,R,L); (L,L,R)\\}$"
   ]
  },
  {
   "cell_type": "markdown",
   "metadata": {},
   "source": [
>>>>>>> 0b5da4683dce62c51d796473092e6abfbd089db1
    "## Exercise 5: optional"
   ]
  },
  {
   "cell_type": "code",
   "execution_count": null,
   "metadata": {},
   "outputs": [],
   "source": [
    "import pandas as pd\n",
    "\n",
    "#Load Europe and EU\n",
    "europe = pd.read_excel('Europe_and_EU.xlsx', sheet_name = 'Europe') \n",
    "eu = pd.read_excel('Europe_and_EU.xlsx', sheet_name = 'EU')\n",
    "\n",
    "#Remove any whitespace from names\n",
<<<<<<< HEAD
    "None\n",
    "None "
=======
    "europe.Country = europe.Country.map(lambda x: x.strip()) \n",
    "eu.Country = eu.Country.map(lambda x: x.strip()) #Remove any whitespace from names"
>>>>>>> 0b5da4683dce62c51d796473092e6abfbd089db1
   ]
  },
  {
   "cell_type": "code",
   "execution_count": null,
   "metadata": {},
   "outputs": [],
   "source": [
    "europe.head(3) #preview dataframe"
   ]
  },
  {
   "cell_type": "code",
   "execution_count": null,
   "metadata": {},
   "outputs": [],
   "source": [
    "eu.head(3)"
   ]
  },
  {
   "cell_type": "code",
   "execution_count": null,
   "metadata": {},
   "outputs": [],
   "source": [
<<<<<<< HEAD
    "None"
=======
    "set(eu.Country) < set(europe.Country)"
>>>>>>> 0b5da4683dce62c51d796473092e6abfbd089db1
   ]
  },
  {
   "cell_type": "code",
   "execution_count": null,
   "metadata": {},
   "outputs": [],
   "source": [
<<<<<<< HEAD
    "None"
=======
    "set(europe.Country) - set(eu.Country)"
>>>>>>> 0b5da4683dce62c51d796473092e6abfbd089db1
   ]
  },
  {
   "cell_type": "markdown",
   "metadata": {},
   "source": [
    "# sources"
   ]
  },
  {
   "cell_type": "markdown",
   "metadata": {},
   "source": [
    "https://en.wikibooks.org/wiki/Discrete_Mathematics/Set_theory/Exercises"
   ]
  }
 ],
 "metadata": {
  "kernelspec": {
   "display_name": "Python 3",
   "language": "python",
   "name": "python3"
  },
  "language_info": {
   "codemirror_mode": {
    "name": "ipython",
    "version": 3
   },
   "file_extension": ".py",
   "mimetype": "text/x-python",
   "name": "python",
   "nbconvert_exporter": "python",
   "pygments_lexer": "ipython3",
   "version": "3.6.4"
  }
 },
 "nbformat": 4,
 "nbformat_minor": 2
}
