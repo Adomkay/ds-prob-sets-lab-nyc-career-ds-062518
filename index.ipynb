{
 "cells": [
  {
   "cell_type": "markdown",
   "metadata": {},
   "source": [
    "# Exercises on sets"
   ]
  },
  {
   "cell_type": "markdown",
   "metadata": {},
   "source": [
    "## PART I: pen and paper exercises"
   ]
  },
  {
   "cell_type": "markdown",
   "metadata": {},
   "source": [
    "### Exercise 1. \n",
    "\n",
    "Consider the following sets:"
   ]
  },
  {
   "cell_type": "markdown",
   "metadata": {},
   "source": [
    "   - $\\Omega$ = positive integers between [1, 12]\n",
    "   - $A$= even numbers between [1, 10]\n",
    "   - $B = \\{3,8,11,12\\}$\n",
    "   - $C = \\{2,3,6,8,9,11\\}$\n",
    "    \n",
    "    a. Illustrate all the sets in a Venn Diagram like the one below. The rectangular shape represents the universal set.\n",
    "    \n",
    "    b. Using your Venn Diagram, list the elements in each of the following sets:\n",
    "    \n",
    "        - $ A \\cap B$\n",
    "        - $ A \\cup C$\n",
    "        - $A^c$ \n",
    "        - The absolute complement of B\n",
    "        - $(A \\cup B)^c$\n",
    "        - $B \\cap C'$\n",
    "        - $A\\backslash B$\n",
    "        - $C \\backslash (B \\backslash A) \n",
    "        - (C \\cap A) \\cup (C \\backslash B)$\n",
    "       \n",
    "\n",
    "<img src=\"venn_diagr.png\",width=450,height=450>"
   ]
  },
  {
   "cell_type": "markdown",
   "metadata": {},
   "source": [
    "### Exercise 2. \n",
    "\n",
    "At the end of a highway exit, cars can either turn left (L), go straight (S) or turn right (R). For the three next  cars arriving, we keep records of what they do."
   ]
  },
  {
   "cell_type": "markdown",
   "metadata": {},
   "source": [
    "a. Create a set $A$ of all possible outcomes assuming that all cars drive in the same direction.\n",
    "           \n",
    "b. Create a set $B$ of all possible outcomes assuming that all cars drive in a different direction.\n",
    "             \n",
    "c. Create a set $C$ of all possible outcomes assuming that exactly 2 cars turn right.\n",
    "            \n",
    "d. Create a set $D$ of all possible outcomes assuming that exactly 2 cars drive in the same direction.\n",
    "\n",
    "                          \n",
    "e. Write down the interpretation and give all possible outcomes for the sets denoted by:\n",
    " - I. $D'$ \n",
    " - II. $C \\cap D$, \n",
    " - III. $C \\cup D$. "
   ]
  },
  {
   "cell_type": "markdown",
   "metadata": {},
   "source": [
    "## PART II: sets in Python"
   ]
  },
  {
   "cell_type": "markdown",
   "metadata": {},
   "source": [
    "### 1. Look at your Venn Diagram again"
   ]
  },
  {
   "cell_type": "markdown",
   "metadata": {},
   "source": [
    "As seen in the lecture, you can easily create sets in Python. Let's try and create sets A, B and C and universal set U just the way they were specified in exercise 1 of part I. "
   ]
  },
  {
   "cell_type": "code",
   "execution_count": 1,
   "metadata": {},
   "outputs": [
    {
     "name": "stdout",
     "output_type": "stream",
     "text": [
      "Type A: <class 'NoneType'>, A: None\n",
      "Type B: <class 'NoneType'>, B: None\n",
      "Type C: <class 'NoneType'>, C: None\n",
      "Type U: <class 'NoneType'>, U: None\n"
     ]
    }
   ],
   "source": [
    "# Create a set\n",
    "A = None\n",
    "B = None\n",
    "C = None\n",
    "U = None\n",
    "\n",
    "print('Type A: {}, A: {}'.format(type(A), A))\n",
    "print('Type B: {}, B: {}'.format(type(B), B))\n",
    "print('Type C: {}, C: {}'.format(type(C), C))\n",
    "print('Type U: {}, U: {}'.format(type(U), U))"
   ]
  },
  {
   "cell_type": "markdown",
   "metadata": {},
   "source": [
    "To help you out, here is an overview of common operations on sets."
   ]
  },
  {
   "cell_type": "markdown",
   "metadata": {},
   "source": [
    "| Method        |\tEquivalent |\tResult |\n",
    "| ------                    | ------       | ------    |\n",
    "| s.issubset(t)             |\ts <= t     | test whether every element in s is in t\n",
    "| s.issuperset(t)           |\ts >= t     | test whether every element in t is in s\n",
    "| s.union(t)                |\ts $\\mid$ t | new set with elements from both s and t\n",
    "| s.intersection(t)         |\ts & t      | new set with elements common to s and t\n",
    "| s.difference(t)           |\ts - t \t   | new set with elements in s but not in t\n",
    "| s.symmetric_difference(t) |\ts ^ t      | new set with elements in either s or t but not both"
   ]
  },
  {
   "cell_type": "markdown",
   "metadata": {},
   "source": [
    "Now, verify your answers in section 1 by using the correct methods in Python."
   ]
  },
  {
   "cell_type": "markdown",
   "metadata": {},
   "source": [
    "#### 1. $ A \\cap B$\n"
   ]
  },
  {
   "cell_type": "code",
   "execution_count": 59,
   "metadata": {},
   "outputs": [
    {
     "name": "stdout",
     "output_type": "stream",
     "text": [
      "{8}\n"
     ]
    }
   ],
   "source": [
    "A_inters_B =  None\n",
    "print(A_inters_B)"
   ]
  },
  {
   "cell_type": "markdown",
   "metadata": {},
   "source": [
    "#### 2. $ A \\cup C $"
   ]
  },
  {
   "cell_type": "code",
   "execution_count": 60,
   "metadata": {},
   "outputs": [
    {
     "name": "stdout",
     "output_type": "stream",
     "text": [
      "{2, 3, 4, 6, 8, 9, 10, 11}\n"
     ]
    }
   ],
   "source": [
    "A_union_C = None\n",
    "print(A_union_C)"
   ]
  },
  {
   "cell_type": "markdown",
   "metadata": {},
   "source": [
    "#### 3.  $A^c$ (you'll have to be a little creative here!)"
   ]
  },
  {
   "cell_type": "code",
   "execution_count": 34,
   "metadata": {},
   "outputs": [
    {
     "name": "stdout",
     "output_type": "stream",
     "text": [
      "{1, 3, 5, 7, 9, 11, 12}\n"
     ]
    }
   ],
   "source": [
    "A_comp = None\n",
    "print(A_comp)"
   ]
  },
  {
   "cell_type": "markdown",
   "metadata": {},
   "source": [
    "#### 4.  $(A \\cup B)^c  $"
   ]
  },
  {
   "cell_type": "code",
   "execution_count": 38,
   "metadata": {},
   "outputs": [
    {
     "name": "stdout",
     "output_type": "stream",
     "text": [
      "{1, 5, 9, 7}\n"
     ]
    }
   ],
   "source": [
    "A_union_B_comp = None\n",
    "print(A_union_B_comp)"
   ]
  },
  {
   "cell_type": "markdown",
   "metadata": {},
   "source": [
    "#### 5. $B \\cap C' $"
   ]
  },
  {
   "cell_type": "code",
   "execution_count": 46,
   "metadata": {},
   "outputs": [
    {
     "name": "stdout",
     "output_type": "stream",
     "text": [
      "{12}\n"
     ]
    }
   ],
   "source": [
    "B_inters_C_comp = None\n",
    "print(C_intsers_C_comp)"
   ]
  },
  {
   "cell_type": "markdown",
   "metadata": {},
   "source": [
    "#### 6. $A\\backslash B$"
   ]
  },
  {
   "cell_type": "code",
   "execution_count": 56,
   "metadata": {},
   "outputs": [
    {
     "name": "stdout",
     "output_type": "stream",
     "text": [
      "{2, 10, 4, 6}\n"
     ]
    }
   ],
   "source": [
    "A_min_B = None\n",
    "print(A_min_B)"
   ]
  },
  {
   "cell_type": "markdown",
   "metadata": {},
   "source": [
    "#### 7. $C \\backslash (B \\backslash A)  $"
   ]
  },
  {
   "cell_type": "code",
   "execution_count": 61,
   "metadata": {},
   "outputs": [
    {
     "name": "stdout",
     "output_type": "stream",
     "text": [
      "{8, 9, 2, 6}\n"
     ]
    }
   ],
   "source": [
    "C_min_B_min_A= None\n",
    "print(C_min_B_min_A)"
   ]
  },
  {
   "cell_type": "markdown",
   "metadata": {},
   "source": [
    "#### 8.  $(C \\cap A) \\cup (C \\backslash B) $"
   ]
  },
  {
   "cell_type": "code",
   "execution_count": 62,
   "metadata": {},
   "outputs": [
    {
     "name": "stdout",
     "output_type": "stream",
     "text": [
      "{2, 6, 8, 9}\n"
     ]
    }
   ],
   "source": [
    "C_inters_A_union_C_min_B= None\n",
    "print(C_inters_A_union_C_min_B)"
   ]
  },
  {
   "cell_type": "markdown",
   "metadata": {},
   "source": [
    "### 2. Using A, B and C, verify the inclusion exclusion principle"
   ]
  },
  {
   "cell_type": "code",
   "execution_count": 5,
   "metadata": {},
   "outputs": [
    {
     "data": {
      "text/plain": [
       "9"
      ]
     },
     "execution_count": 5,
     "metadata": {},
     "output_type": "execute_result"
    }
   ],
   "source": [
    "left_hand_eq = None\n",
    "print(left_hand_eq)"
   ]
  },
  {
   "cell_type": "code",
   "execution_count": 11,
   "metadata": {},
   "outputs": [
    {
     "name": "stdout",
     "output_type": "stream",
     "text": [
      "9\n"
     ]
    }
   ],
   "source": [
    "right_hand_eq = None\n",
    "print(right_hand_eq)"
   ]
  },
  {
   "cell_type": "markdown",
   "metadata": {},
   "source": [
    "### 3. Making changes to sets: animal farm"
   ]
  },
  {
   "cell_type": "markdown",
   "metadata": {},
   "source": [
    "|Operation                          |\tEquivalent |\tResult|\n",
    "| ------                            | ------       | ------   |\n",
    "|s.update(t)                        | \t$s \\mid t$ \t   |return set s with elements added from t|\n",
    "|s.intersection_update(t)           | \ts &= t     |\treturn set s keeping only elements also found in t|\n",
    "|s.difference_update(t)             |\ts -= t \t   |return set s after removing elements found in t|\n",
    "|s.symmetric_difference_update(t)   |\ts ^= t \t   |return set s with elements from s or t but not both|\n",
    "|s.add(x)                           |\t           |\tadd element x to set s|\n",
    "|s.remove(x)                        |\t           |\tremove x from set s|\n",
    "|s.discard(x)                       |\t           |\tremoves x from set s if present|\n",
    "|s.pop()                            | \t           |\tremove and return an arbitrary element from s|\n",
    "|s.clear()            \t            |  \t           |remove all elements from set s|"
   ]
  },
  {
   "cell_type": "markdown",
   "metadata": {},
   "source": [
    "Eve, Mary and Nina love animals, and they all have a beautiful collection of pets (some species more unusual than others). The lists below shows the three girls' pets collections."
   ]
  },
  {
   "cell_type": "code",
   "execution_count": 3,
   "metadata": {},
   "outputs": [],
   "source": [
    "Nina = set([\"Cat\",\"Dog\",\"Rabbit\",\"Donkey\",\"Parrot\", \"Goldfish\"])\n",
    "Mary = set([\"Dog\",\"Chinchilla\",\"Horse\", \"Chicken\"])\n",
    "Eve = set([\"Rabbit\", \"Turtle\", \"Goldfish\"])"
   ]
  },
  {
   "cell_type": "markdown",
   "metadata": {},
   "source": [
    "Sadly, Eve's turtle passed away last week. Let's update her pet list accordingly."
   ]
  },
  {
   "cell_type": "code",
   "execution_count": 4,
   "metadata": {},
   "outputs": [
    {
     "name": "stdout",
     "output_type": "stream",
     "text": [
      "{'Rabbit', 'Goldfish', 'Turtle'}\n"
     ]
    }
   ],
   "source": [
    "None\n",
    "print(Eve) "
   ]
  },
  {
   "cell_type": "markdown",
   "metadata": {},
   "source": [
    "Mary didn't think her big pet collection entirely through: she loves traveling, but also wants to make sure her pets are well taken care off. As Nina is already spending a considerable amount of time taking care of her own pets, adding a few more won't make that much of a difference. Nina does want to update her list while Marie is away. "
   ]
  },
  {
   "cell_type": "code",
   "execution_count": 5,
   "metadata": {},
   "outputs": [
    {
     "name": "stdout",
     "output_type": "stream",
     "text": [
      "{'Goldfish', 'Cat', 'Dog', 'Rabbit', 'Parrot', 'Donkey'}\n"
     ]
    }
   ],
   "source": [
    "None\n",
    "print(Nina) "
   ]
  },
  {
   "cell_type": "markdown",
   "metadata": {},
   "source": [
    "Mary, on the other hand, wants to clear her list altogether while away:"
   ]
  },
  {
   "cell_type": "code",
   "execution_count": 6,
   "metadata": {},
   "outputs": [
    {
     "name": "stdout",
     "output_type": "stream",
     "text": [
      "{'Chinchilla', 'Dog', 'Chicken', 'Horse'}\n"
     ]
    }
   ],
   "source": [
    "None\n",
    "print(Mary)"
   ]
  },
  {
   "cell_type": "markdown",
   "metadata": {},
   "source": [
    "Look at how many species Nina is taking care of right now."
   ]
  },
  {
   "cell_type": "code",
   "execution_count": 7,
   "metadata": {},
   "outputs": [
    {
     "name": "stdout",
     "output_type": "stream",
     "text": [
      "None\n"
     ]
    }
   ],
   "source": [
    "n_species_Nina = None\n",
    "print(n_species_Nina)"
   ]
  },
  {
   "cell_type": "markdown",
   "metadata": {},
   "source": [
    "Taking care of this many pets is weighing heavy on Nina. She remembered Eve had a smaller collection of pets lately, and thats e she asks Eve to take care of the common species. This way, the extra pets are not a huge effort on Eve's behalf. Let's update Nina's pet collection."
   ]
  },
  {
   "cell_type": "code",
   "execution_count": 8,
   "metadata": {},
   "outputs": [
    {
     "data": {
      "text/plain": [
       "{'Cat', 'Dog', 'Donkey', 'Goldfish', 'Parrot', 'Rabbit'}"
      ]
     },
     "execution_count": 8,
     "metadata": {},
     "output_type": "execute_result"
    }
   ],
   "source": [
    "None\n",
    "Nina"
   ]
  },
  {
   "cell_type": "markdown",
   "metadata": {},
   "source": [
    "## PART III: optional: another data set"
   ]
  },
  {
   "cell_type": "markdown",
   "metadata": {},
   "source": [
    "Look at the solution branch for a potential exercise using the Europe and EU data set."
   ]
  },
  {
   "cell_type": "code",
   "execution_count": 128,
   "metadata": {},
   "outputs": [],
   "source": [
    "europe = pd.read_excel('Europe_and_EU.xlsx', sheet_name = 'Europe') \n",
    "eu = pd.read_excel('Europe_and_EU.xlsx', sheet_name = 'EU')"
   ]
  },
  {
   "cell_type": "markdown",
   "metadata": {},
   "source": [
    "# sources"
   ]
  },
  {
   "cell_type": "markdown",
   "metadata": {},
   "source": [
    "https://en.wikibooks.org/wiki/Discrete_Mathematics/Set_theory/Exercises"
   ]
  }
 ],
 "metadata": {
  "kernelspec": {
   "display_name": "Python 3",
   "language": "python",
   "name": "python3"
  },
  "language_info": {
   "codemirror_mode": {
    "name": "ipython",
    "version": 3
   },
   "file_extension": ".py",
   "mimetype": "text/x-python",
   "name": "python",
   "nbconvert_exporter": "python",
   "pygments_lexer": "ipython3",
   "version": "3.6.4"
  }
 },
 "nbformat": 4,
 "nbformat_minor": 2
}
